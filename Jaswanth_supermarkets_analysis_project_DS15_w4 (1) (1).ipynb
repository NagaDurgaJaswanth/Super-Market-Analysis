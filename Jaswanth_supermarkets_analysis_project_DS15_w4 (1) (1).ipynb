{
  "nbformat": 4,
  "nbformat_minor": 0,
  "metadata": {
    "colab": {
      "name": "Charan_supermarkets_analysis_project_DS15_w4.ipynb",
      "provenance": [],
      "collapsed_sections": []
    },
    "kernelspec": {
      "name": "python3",
      "display_name": "Python 3"
    },
    "language_info": {
      "name": "python"
    }
  },
  "cells": [
    {
      "cell_type": "markdown",
      "source": [
        "# **Python project on Super Marker Analysis**"
      ],
      "metadata": {
        "id": "GBgBCPWzvAm1"
      }
    },
    {
      "cell_type": "markdown",
      "source": [
        "#Introduction\n",
        "This data set explains about various branch sales income and gross margin percentage.\n",
        "The data set contain information about product mapping , city mapping,and customer specifications we are going to use python to handle this data set"
      ],
      "metadata": {
        "id": "u8EYxWTktB5b"
      }
    },
    {
      "cell_type": "markdown",
      "source": [
        "#Variables used in this data set are:\n",
        "Invoice id: Computer generated sales slip invoice identification number\n",
        "Branch: Branch of supercenter (3 branches are available identified by A, B and C).\n",
        "\n",
        "City: Location of supercenters\n",
        "\n",
        "Customer type: Type of customers, recorded by Members for customers using member card and Normal for without member card.\n",
        "\n",
        "Gender: Gender type of customer\n",
        "\n",
        "Product line: General item categorization groups - Electronic accessories, Fashion accessories, Food and beverages, Health and beauty, Home and lifestyle, Sports and travel\n",
        "\n",
        "Unit price: Price of each product in $\n",
        "\n",
        "Quantity: Number of products purchased by customer\n",
        "\n",
        "Tax: 5% tax fee for customer buying\n",
        "\n",
        "Total: Total price including tax\n",
        "\n",
        "Date: Date of purchase (Record available from January 2019 to March 2019)\n",
        "\n",
        "Time: Purchase time (10am to 9pm)\n",
        "\n",
        "Payment: Payment used by customer for purchase (3 methods are available – Cash, Credit card and Ewallet)\n",
        "\n",
        "COGS: Cost of goods sold\n",
        "\n",
        "Gross margin percentage: Gross margin percentage\n",
        "\n",
        "Gross income: Gross income\n",
        "\n",
        "Rating: Customer stratification rating on their overall shopping experience (On a scale of 1 to 10)"
      ],
      "metadata": {
        "id": "9IU4mAM4zm4i"
      }
    },
    {
      "cell_type": "code",
      "execution_count": null,
      "metadata": {
        "id": "UrcsncMg0ikN"
      },
      "outputs": [],
      "source": [
        "import pandas as pd "
      ]
    },
    {
      "cell_type": "code",
      "source": [
        "import seaborn as sns\n",
        "import numpy as np\n",
        "import matplotlib.pyplot as plt"
      ],
      "metadata": {
        "id": "hwsSUFIMQmQ7"
      },
      "execution_count": 63,
      "outputs": []
    },
    {
      "cell_type": "code",
      "source": [
        "sm=pd.read_excel(\"supermarket_sales.xlsx\")#reading the data set"
      ],
      "metadata": {
        "id": "EHQIQaiU0lyS"
      },
      "execution_count": null,
      "outputs": []
    },
    {
      "cell_type": "code",
      "source": [
        "# Check datatypes of each column and be sure that python is reading each variable perfectly.\n",
        "sm.info()"
      ],
      "metadata": {
        "colab": {
          "base_uri": "https://localhost:8080/"
        },
        "id": "GkbDMRjs0l88",
        "outputId": "978c374b-2e1d-46a9-a134-aa15805d7b67"
      },
      "execution_count": null,
      "outputs": [
        {
          "output_type": "stream",
          "name": "stdout",
          "text": [
            "<class 'pandas.core.frame.DataFrame'>\n",
            "RangeIndex: 1000 entries, 0 to 999\n",
            "Data columns (total 17 columns):\n",
            " #   Column                   Non-Null Count  Dtype         \n",
            "---  ------                   --------------  -----         \n",
            " 0   Invoice ID               1000 non-null   object        \n",
            " 1   Branch                   1000 non-null   object        \n",
            " 2   city code                1000 non-null   object        \n",
            " 3   Customer type            1000 non-null   object        \n",
            " 4   Gender                   1000 non-null   object        \n",
            " 5   Product code             1000 non-null   object        \n",
            " 6   Unit price               996 non-null    object        \n",
            " 7   Quantity                 1000 non-null   int64         \n",
            " 8   Tax 5%                   1000 non-null   float64       \n",
            " 9   Total                    1000 non-null   float64       \n",
            " 10  Date                     1000 non-null   datetime64[ns]\n",
            " 11  Time                     1000 non-null   object        \n",
            " 12  Payment                  1000 non-null   object        \n",
            " 13  cogs                     1000 non-null   float64       \n",
            " 14  gross margin percentage  1000 non-null   float64       \n",
            " 15  gross income             1000 non-null   float64       \n",
            " 16  Rating                   993 non-null    float64       \n",
            "dtypes: datetime64[ns](1), float64(6), int64(1), object(9)\n",
            "memory usage: 132.9+ KB\n"
          ]
        }
      ]
    },
    {
      "cell_type": "code",
      "source": [
        "#droping the null value rows to work with the data efficently\n",
        "sms=sm.dropna()"
      ],
      "metadata": {
        "id": "8ngtf8ji0l_p"
      },
      "execution_count": null,
      "outputs": []
    },
    {
      "cell_type": "code",
      "source": [
        "sms.info()"
      ],
      "metadata": {
        "colab": {
          "base_uri": "https://localhost:8080/"
        },
        "id": "WnXBOT7t0mCM",
        "outputId": "a545d6b2-c763-45d9-8793-c7807c215e6f"
      },
      "execution_count": null,
      "outputs": [
        {
          "output_type": "stream",
          "name": "stdout",
          "text": [
            "<class 'pandas.core.frame.DataFrame'>\n",
            "Int64Index: 989 entries, 0 to 999\n",
            "Data columns (total 17 columns):\n",
            " #   Column                   Non-Null Count  Dtype         \n",
            "---  ------                   --------------  -----         \n",
            " 0   Invoice ID               989 non-null    object        \n",
            " 1   Branch                   989 non-null    object        \n",
            " 2   city code                989 non-null    object        \n",
            " 3   Customer type            989 non-null    object        \n",
            " 4   Gender                   989 non-null    object        \n",
            " 5   Product code             989 non-null    object        \n",
            " 6   Unit price               989 non-null    object        \n",
            " 7   Quantity                 989 non-null    int64         \n",
            " 8   Tax 5%                   989 non-null    float64       \n",
            " 9   Total                    989 non-null    float64       \n",
            " 10  Date                     989 non-null    datetime64[ns]\n",
            " 11  Time                     989 non-null    object        \n",
            " 12  Payment                  989 non-null    object        \n",
            " 13  cogs                     989 non-null    float64       \n",
            " 14  gross margin percentage  989 non-null    float64       \n",
            " 15  gross income             989 non-null    float64       \n",
            " 16  Rating                   989 non-null    float64       \n",
            "dtypes: datetime64[ns](1), float64(6), int64(1), object(9)\n",
            "memory usage: 139.1+ KB\n"
          ]
        }
      ]
    },
    {
      "cell_type": "code",
      "source": [
        "sms"
      ],
      "metadata": {
        "colab": {
          "base_uri": "https://localhost:8080/",
          "height": 696
        },
        "id": "TpzCf-fT7b3s",
        "outputId": "25012b62-2668-4694-e0f7-5f1fd8e1c8ef"
      },
      "execution_count": null,
      "outputs": [
        {
          "output_type": "execute_result",
          "data": {
            "text/plain": [
              "      Invoice ID Branch city code  Customer type  Gender Product code  \\\n",
              "0    750-67-8428      A        CT1        Member  Female          PD1   \n",
              "1    226-31-3081      C        CT3        Normal  Female          PD2   \n",
              "2    631-41-3108      A        CT1        Normal    Male          PD3   \n",
              "3    123-19-1176      A        CT1        Member    Male          PD1   \n",
              "4    373-73-7910      A        CT1        Normal    Male          PD4   \n",
              "..           ...    ...        ...           ...     ...          ...   \n",
              "995  233-67-5758      C        CT3        Normal    Male          PD1   \n",
              "996  303-96-2227      B        CT9        Normal  Female          PD3   \n",
              "997  727-02-1313      A        CT1        Member    Male          PD5   \n",
              "998  347-56-2442      A        CT1        Normal    Male          PD3   \n",
              "999  849-09-3807      A        CT1        Member  Female          PD6   \n",
              "\n",
              "    Unit price  Quantity   Tax 5%      Total       Date      Time  \\\n",
              "0        74.69         7  26.1415   548.9715 2019-01-05  13:08:00   \n",
              "1        15.28         5   3.8200    80.2200 2019-03-08  10:29:00   \n",
              "2        46.33         7  16.2155   340.5255 2019-03-03  13:23:00   \n",
              "3        58.22         8  23.2880   489.0480 2019-01-27  20:33:00   \n",
              "4        86.31         7  30.2085   634.3785 2019-02-08  10:37:00   \n",
              "..         ...       ...      ...        ...        ...       ...   \n",
              "995      40.35         1   2.0175    42.3675 2019-01-29  13:46:00   \n",
              "996      97.38        10  48.6900  1022.4900 2019-03-02  17:16:00   \n",
              "997      31.84         1   1.5920    33.4320 2019-02-09  13:22:00   \n",
              "998      65.82         1   3.2910    69.1110 2019-02-22  15:33:00   \n",
              "999      88.34         7  30.9190   649.2990 2019-02-18  13:28:00   \n",
              "\n",
              "         Payment    cogs  gross margin percentage  gross income  Rating  \n",
              "0        Ewallet  522.83                 4.761905       26.1415     9.1  \n",
              "1           Cash   76.40                 4.761905        3.8200     9.6  \n",
              "2    Credit card  324.31                 4.761905       16.2155     7.4  \n",
              "3        Ewallet  465.76                 4.761905       23.2880     8.4  \n",
              "4        Ewallet  604.17                 4.761905       30.2085     5.3  \n",
              "..           ...     ...                      ...           ...     ...  \n",
              "995      Ewallet   40.35                 4.761905        2.0175     6.2  \n",
              "996      Ewallet  973.80                 4.761905       48.6900     4.4  \n",
              "997         Cash   31.84                 4.761905        1.5920     7.7  \n",
              "998         Cash   65.82                 4.761905        3.2910     4.1  \n",
              "999         Cash  618.38                 4.761905       30.9190     6.6  \n",
              "\n",
              "[989 rows x 17 columns]"
            ],
            "text/html": [
              "\n",
              "  <div id=\"df-39684d43-4e83-463b-a966-d3b2b2014b73\">\n",
              "    <div class=\"colab-df-container\">\n",
              "      <div>\n",
              "<style scoped>\n",
              "    .dataframe tbody tr th:only-of-type {\n",
              "        vertical-align: middle;\n",
              "    }\n",
              "\n",
              "    .dataframe tbody tr th {\n",
              "        vertical-align: top;\n",
              "    }\n",
              "\n",
              "    .dataframe thead th {\n",
              "        text-align: right;\n",
              "    }\n",
              "</style>\n",
              "<table border=\"1\" class=\"dataframe\">\n",
              "  <thead>\n",
              "    <tr style=\"text-align: right;\">\n",
              "      <th></th>\n",
              "      <th>Invoice ID</th>\n",
              "      <th>Branch</th>\n",
              "      <th>city code</th>\n",
              "      <th>Customer type</th>\n",
              "      <th>Gender</th>\n",
              "      <th>Product code</th>\n",
              "      <th>Unit price</th>\n",
              "      <th>Quantity</th>\n",
              "      <th>Tax 5%</th>\n",
              "      <th>Total</th>\n",
              "      <th>Date</th>\n",
              "      <th>Time</th>\n",
              "      <th>Payment</th>\n",
              "      <th>cogs</th>\n",
              "      <th>gross margin percentage</th>\n",
              "      <th>gross income</th>\n",
              "      <th>Rating</th>\n",
              "    </tr>\n",
              "  </thead>\n",
              "  <tbody>\n",
              "    <tr>\n",
              "      <th>0</th>\n",
              "      <td>750-67-8428</td>\n",
              "      <td>A</td>\n",
              "      <td>CT1</td>\n",
              "      <td>Member</td>\n",
              "      <td>Female</td>\n",
              "      <td>PD1</td>\n",
              "      <td>74.69</td>\n",
              "      <td>7</td>\n",
              "      <td>26.1415</td>\n",
              "      <td>548.9715</td>\n",
              "      <td>2019-01-05</td>\n",
              "      <td>13:08:00</td>\n",
              "      <td>Ewallet</td>\n",
              "      <td>522.83</td>\n",
              "      <td>4.761905</td>\n",
              "      <td>26.1415</td>\n",
              "      <td>9.1</td>\n",
              "    </tr>\n",
              "    <tr>\n",
              "      <th>1</th>\n",
              "      <td>226-31-3081</td>\n",
              "      <td>C</td>\n",
              "      <td>CT3</td>\n",
              "      <td>Normal</td>\n",
              "      <td>Female</td>\n",
              "      <td>PD2</td>\n",
              "      <td>15.28</td>\n",
              "      <td>5</td>\n",
              "      <td>3.8200</td>\n",
              "      <td>80.2200</td>\n",
              "      <td>2019-03-08</td>\n",
              "      <td>10:29:00</td>\n",
              "      <td>Cash</td>\n",
              "      <td>76.40</td>\n",
              "      <td>4.761905</td>\n",
              "      <td>3.8200</td>\n",
              "      <td>9.6</td>\n",
              "    </tr>\n",
              "    <tr>\n",
              "      <th>2</th>\n",
              "      <td>631-41-3108</td>\n",
              "      <td>A</td>\n",
              "      <td>CT1</td>\n",
              "      <td>Normal</td>\n",
              "      <td>Male</td>\n",
              "      <td>PD3</td>\n",
              "      <td>46.33</td>\n",
              "      <td>7</td>\n",
              "      <td>16.2155</td>\n",
              "      <td>340.5255</td>\n",
              "      <td>2019-03-03</td>\n",
              "      <td>13:23:00</td>\n",
              "      <td>Credit card</td>\n",
              "      <td>324.31</td>\n",
              "      <td>4.761905</td>\n",
              "      <td>16.2155</td>\n",
              "      <td>7.4</td>\n",
              "    </tr>\n",
              "    <tr>\n",
              "      <th>3</th>\n",
              "      <td>123-19-1176</td>\n",
              "      <td>A</td>\n",
              "      <td>CT1</td>\n",
              "      <td>Member</td>\n",
              "      <td>Male</td>\n",
              "      <td>PD1</td>\n",
              "      <td>58.22</td>\n",
              "      <td>8</td>\n",
              "      <td>23.2880</td>\n",
              "      <td>489.0480</td>\n",
              "      <td>2019-01-27</td>\n",
              "      <td>20:33:00</td>\n",
              "      <td>Ewallet</td>\n",
              "      <td>465.76</td>\n",
              "      <td>4.761905</td>\n",
              "      <td>23.2880</td>\n",
              "      <td>8.4</td>\n",
              "    </tr>\n",
              "    <tr>\n",
              "      <th>4</th>\n",
              "      <td>373-73-7910</td>\n",
              "      <td>A</td>\n",
              "      <td>CT1</td>\n",
              "      <td>Normal</td>\n",
              "      <td>Male</td>\n",
              "      <td>PD4</td>\n",
              "      <td>86.31</td>\n",
              "      <td>7</td>\n",
              "      <td>30.2085</td>\n",
              "      <td>634.3785</td>\n",
              "      <td>2019-02-08</td>\n",
              "      <td>10:37:00</td>\n",
              "      <td>Ewallet</td>\n",
              "      <td>604.17</td>\n",
              "      <td>4.761905</td>\n",
              "      <td>30.2085</td>\n",
              "      <td>5.3</td>\n",
              "    </tr>\n",
              "    <tr>\n",
              "      <th>...</th>\n",
              "      <td>...</td>\n",
              "      <td>...</td>\n",
              "      <td>...</td>\n",
              "      <td>...</td>\n",
              "      <td>...</td>\n",
              "      <td>...</td>\n",
              "      <td>...</td>\n",
              "      <td>...</td>\n",
              "      <td>...</td>\n",
              "      <td>...</td>\n",
              "      <td>...</td>\n",
              "      <td>...</td>\n",
              "      <td>...</td>\n",
              "      <td>...</td>\n",
              "      <td>...</td>\n",
              "      <td>...</td>\n",
              "      <td>...</td>\n",
              "    </tr>\n",
              "    <tr>\n",
              "      <th>995</th>\n",
              "      <td>233-67-5758</td>\n",
              "      <td>C</td>\n",
              "      <td>CT3</td>\n",
              "      <td>Normal</td>\n",
              "      <td>Male</td>\n",
              "      <td>PD1</td>\n",
              "      <td>40.35</td>\n",
              "      <td>1</td>\n",
              "      <td>2.0175</td>\n",
              "      <td>42.3675</td>\n",
              "      <td>2019-01-29</td>\n",
              "      <td>13:46:00</td>\n",
              "      <td>Ewallet</td>\n",
              "      <td>40.35</td>\n",
              "      <td>4.761905</td>\n",
              "      <td>2.0175</td>\n",
              "      <td>6.2</td>\n",
              "    </tr>\n",
              "    <tr>\n",
              "      <th>996</th>\n",
              "      <td>303-96-2227</td>\n",
              "      <td>B</td>\n",
              "      <td>CT9</td>\n",
              "      <td>Normal</td>\n",
              "      <td>Female</td>\n",
              "      <td>PD3</td>\n",
              "      <td>97.38</td>\n",
              "      <td>10</td>\n",
              "      <td>48.6900</td>\n",
              "      <td>1022.4900</td>\n",
              "      <td>2019-03-02</td>\n",
              "      <td>17:16:00</td>\n",
              "      <td>Ewallet</td>\n",
              "      <td>973.80</td>\n",
              "      <td>4.761905</td>\n",
              "      <td>48.6900</td>\n",
              "      <td>4.4</td>\n",
              "    </tr>\n",
              "    <tr>\n",
              "      <th>997</th>\n",
              "      <td>727-02-1313</td>\n",
              "      <td>A</td>\n",
              "      <td>CT1</td>\n",
              "      <td>Member</td>\n",
              "      <td>Male</td>\n",
              "      <td>PD5</td>\n",
              "      <td>31.84</td>\n",
              "      <td>1</td>\n",
              "      <td>1.5920</td>\n",
              "      <td>33.4320</td>\n",
              "      <td>2019-02-09</td>\n",
              "      <td>13:22:00</td>\n",
              "      <td>Cash</td>\n",
              "      <td>31.84</td>\n",
              "      <td>4.761905</td>\n",
              "      <td>1.5920</td>\n",
              "      <td>7.7</td>\n",
              "    </tr>\n",
              "    <tr>\n",
              "      <th>998</th>\n",
              "      <td>347-56-2442</td>\n",
              "      <td>A</td>\n",
              "      <td>CT1</td>\n",
              "      <td>Normal</td>\n",
              "      <td>Male</td>\n",
              "      <td>PD3</td>\n",
              "      <td>65.82</td>\n",
              "      <td>1</td>\n",
              "      <td>3.2910</td>\n",
              "      <td>69.1110</td>\n",
              "      <td>2019-02-22</td>\n",
              "      <td>15:33:00</td>\n",
              "      <td>Cash</td>\n",
              "      <td>65.82</td>\n",
              "      <td>4.761905</td>\n",
              "      <td>3.2910</td>\n",
              "      <td>4.1</td>\n",
              "    </tr>\n",
              "    <tr>\n",
              "      <th>999</th>\n",
              "      <td>849-09-3807</td>\n",
              "      <td>A</td>\n",
              "      <td>CT1</td>\n",
              "      <td>Member</td>\n",
              "      <td>Female</td>\n",
              "      <td>PD6</td>\n",
              "      <td>88.34</td>\n",
              "      <td>7</td>\n",
              "      <td>30.9190</td>\n",
              "      <td>649.2990</td>\n",
              "      <td>2019-02-18</td>\n",
              "      <td>13:28:00</td>\n",
              "      <td>Cash</td>\n",
              "      <td>618.38</td>\n",
              "      <td>4.761905</td>\n",
              "      <td>30.9190</td>\n",
              "      <td>6.6</td>\n",
              "    </tr>\n",
              "  </tbody>\n",
              "</table>\n",
              "<p>989 rows × 17 columns</p>\n",
              "</div>\n",
              "      <button class=\"colab-df-convert\" onclick=\"convertToInteractive('df-39684d43-4e83-463b-a966-d3b2b2014b73')\"\n",
              "              title=\"Convert this dataframe to an interactive table.\"\n",
              "              style=\"display:none;\">\n",
              "        \n",
              "  <svg xmlns=\"http://www.w3.org/2000/svg\" height=\"24px\"viewBox=\"0 0 24 24\"\n",
              "       width=\"24px\">\n",
              "    <path d=\"M0 0h24v24H0V0z\" fill=\"none\"/>\n",
              "    <path d=\"M18.56 5.44l.94 2.06.94-2.06 2.06-.94-2.06-.94-.94-2.06-.94 2.06-2.06.94zm-11 1L8.5 8.5l.94-2.06 2.06-.94-2.06-.94L8.5 2.5l-.94 2.06-2.06.94zm10 10l.94 2.06.94-2.06 2.06-.94-2.06-.94-.94-2.06-.94 2.06-2.06.94z\"/><path d=\"M17.41 7.96l-1.37-1.37c-.4-.4-.92-.59-1.43-.59-.52 0-1.04.2-1.43.59L10.3 9.45l-7.72 7.72c-.78.78-.78 2.05 0 2.83L4 21.41c.39.39.9.59 1.41.59.51 0 1.02-.2 1.41-.59l7.78-7.78 2.81-2.81c.8-.78.8-2.07 0-2.86zM5.41 20L4 18.59l7.72-7.72 1.47 1.35L5.41 20z\"/>\n",
              "  </svg>\n",
              "      </button>\n",
              "      \n",
              "  <style>\n",
              "    .colab-df-container {\n",
              "      display:flex;\n",
              "      flex-wrap:wrap;\n",
              "      gap: 12px;\n",
              "    }\n",
              "\n",
              "    .colab-df-convert {\n",
              "      background-color: #E8F0FE;\n",
              "      border: none;\n",
              "      border-radius: 50%;\n",
              "      cursor: pointer;\n",
              "      display: none;\n",
              "      fill: #1967D2;\n",
              "      height: 32px;\n",
              "      padding: 0 0 0 0;\n",
              "      width: 32px;\n",
              "    }\n",
              "\n",
              "    .colab-df-convert:hover {\n",
              "      background-color: #E2EBFA;\n",
              "      box-shadow: 0px 1px 2px rgba(60, 64, 67, 0.3), 0px 1px 3px 1px rgba(60, 64, 67, 0.15);\n",
              "      fill: #174EA6;\n",
              "    }\n",
              "\n",
              "    [theme=dark] .colab-df-convert {\n",
              "      background-color: #3B4455;\n",
              "      fill: #D2E3FC;\n",
              "    }\n",
              "\n",
              "    [theme=dark] .colab-df-convert:hover {\n",
              "      background-color: #434B5C;\n",
              "      box-shadow: 0px 1px 3px 1px rgba(0, 0, 0, 0.15);\n",
              "      filter: drop-shadow(0px 1px 2px rgba(0, 0, 0, 0.3));\n",
              "      fill: #FFFFFF;\n",
              "    }\n",
              "  </style>\n",
              "\n",
              "      <script>\n",
              "        const buttonEl =\n",
              "          document.querySelector('#df-39684d43-4e83-463b-a966-d3b2b2014b73 button.colab-df-convert');\n",
              "        buttonEl.style.display =\n",
              "          google.colab.kernel.accessAllowed ? 'block' : 'none';\n",
              "\n",
              "        async function convertToInteractive(key) {\n",
              "          const element = document.querySelector('#df-39684d43-4e83-463b-a966-d3b2b2014b73');\n",
              "          const dataTable =\n",
              "            await google.colab.kernel.invokeFunction('convertToInteractive',\n",
              "                                                     [key], {});\n",
              "          if (!dataTable) return;\n",
              "\n",
              "          const docLinkHtml = 'Like what you see? Visit the ' +\n",
              "            '<a target=\"_blank\" href=https://colab.research.google.com/notebooks/data_table.ipynb>data table notebook</a>'\n",
              "            + ' to learn more about interactive tables.';\n",
              "          element.innerHTML = '';\n",
              "          dataTable['output_type'] = 'display_data';\n",
              "          await google.colab.output.renderOutput(dataTable, element);\n",
              "          const docLink = document.createElement('div');\n",
              "          docLink.innerHTML = docLinkHtml;\n",
              "          element.appendChild(docLink);\n",
              "        }\n",
              "      </script>\n",
              "    </div>\n",
              "  </div>\n",
              "  "
            ]
          },
          "metadata": {},
          "execution_count": 7
        }
      ]
    },
    {
      "cell_type": "markdown",
      "source": [
        "#1.**Is your supermarket more popular with males or females?**"
      ],
      "metadata": {
        "id": "IacIeqQ714hR"
      }
    },
    {
      "cell_type": "code",
      "source": [
        "#finding no of males and females\n",
        "gender=[]\n",
        "for i in sms['Gender']:\n",
        "  if i==\"Male\":\n",
        "    gender.append(i)\n",
        "  else:\n",
        "    gender.append(i)\n",
        "males=gender.count('Male')\n",
        "females=gender.count('Female')\n",
        "print('Number of males',males)\n",
        "print('Number of females',females)\n",
        "if males>females:\n",
        "  print('Hence we can say that',\"males\",'are more popular')\n",
        "else:\n",
        "  print('Hence we can say that',\"females\",'are more popular')"
      ],
      "metadata": {
        "colab": {
          "base_uri": "https://localhost:8080/"
        },
        "id": "-maxu0hY0mF4",
        "outputId": "c402905b-ba5d-494d-eeee-3ee08b0a6f7a"
      },
      "execution_count": null,
      "outputs": [
        {
          "output_type": "stream",
          "name": "stdout",
          "text": [
            "Number of males 492\n",
            "Number of females 497\n",
            "Hence we can say that females are more popular\n"
          ]
        }
      ]
    },
    {
      "cell_type": "code",
      "source": [
        "#ploting pie chart for no of males and females\n",
        "sms['Gender'].value_counts().plot(kind='pie',title='Gender of supermarkets')"
      ],
      "metadata": {
        "id": "F1kHtqL99gR7",
        "colab": {
          "base_uri": "https://localhost:8080/",
          "height": 281
        },
        "outputId": "133e104a-7f16-4f74-d107-c76f65d18d97"
      },
      "execution_count": null,
      "outputs": [
        {
          "output_type": "execute_result",
          "data": {
            "text/plain": [
              "<matplotlib.axes._subplots.AxesSubplot at 0x7f47e4fec690>"
            ]
          },
          "metadata": {},
          "execution_count": 9
        },
        {
          "output_type": "display_data",
          "data": {
            "text/plain": [
              "<Figure size 432x288 with 1 Axes>"
            ],
            "image/png": "[encoded data removed]"
          },
          "metadata": {}
        }
      ]
    },
    {
      "cell_type": "markdown",
      "source": [
        "#**2.What does the customer rating look like and comment on its skewness?**"
      ],
      "metadata": {
        "id": "8uK_O1sx6Pxm"
      }
    },
    {
      "cell_type": "code",
      "source": [
        "sns.distplot(sms['Rating'])\n",
        "plt.axvline(x=np.mean(sms['Rating']), c='red', ls='--', label='mean')\n",
        "plt.axvline(x=np.percentile(sms['Rating'],25),c='green', ls='--', label = '25th percentile:Q1')\n",
        "plt.axvline(x=np.percentile(sms['Rating'],75),c='orange', ls='--',label = '75th percentile:Q3' )\n",
        "plt.legend()"
      ],
      "metadata": {
        "colab": {
          "base_uri": "https://localhost:8080/",
          "height": 351
        },
        "id": "xwh_ncbQ6bIu",
        "outputId": "a46e9a02-c898-4d86-a850-a831a18ea4cb"
      },
      "execution_count": 64,
      "outputs": [
        {
          "output_type": "stream",
          "name": "stderr",
          "text": [
            "/usr/local/lib/python3.7/dist-packages/seaborn/distributions.py:2619: FutureWarning: `distplot` is a deprecated function and will be removed in a future version. Please adapt your code to use either `displot` (a figure-level function with similar flexibility) or `histplot` (an axes-level function for histograms).\n",
            "  warnings.warn(msg, FutureWarning)\n"
          ]
        },
        {
          "output_type": "execute_result",
          "data": {
            "text/plain": [
              "<matplotlib.legend.Legend at 0x7f47ce0d93d0>"
            ]
          },
          "metadata": {},
          "execution_count": 64
        },
        {
          "output_type": "display_data",
          "data": {
            "text/plain": [
              "<Figure size 432x288 with 1 Axes>"
            ],
            "image/png": "[encoded data removed]"
          },
          "metadata": {
            "needs_background": "light"
          }
        }
      ]
    },
    {
      "cell_type": "markdown",
      "source": [
        "**The rating distribution looks uniform and there seems to be no skewness on the left or right side of the distribution. We can plot the mean and the percentiles to show this as well. The red dotted lime is the mean and the green and orange lines indicate the 25th and 75th percentiles respectively.The mean rating is ~7 across products**"
      ],
      "metadata": {
        "id": "jl6C-f636yRM"
      }
    },
    {
      "cell_type": "markdown",
      "source": [
        "#**3.What can you say about the aggrigate sales across the branches?**"
      ],
      "metadata": {
        "id": "6qT82jdt6-qq"
      }
    },
    {
      "cell_type": "code",
      "source": [
        "sns.countplot(sms['Branch'])\n",
        "sms['Branch'].value_counts()"
      ],
      "metadata": {
        "colab": {
          "base_uri": "https://localhost:8080/",
          "height": 406
        },
        "id": "Tfq8MDno7JXY",
        "outputId": "09223b1a-df50-4e1e-8ab0-0e2b6ec9bd68"
      },
      "execution_count": 65,
      "outputs": [
        {
          "output_type": "stream",
          "name": "stderr",
          "text": [
            "/usr/local/lib/python3.7/dist-packages/seaborn/_decorators.py:43: FutureWarning: Pass the following variable as a keyword arg: x. From version 0.12, the only valid positional argument will be `data`, and passing other arguments without an explicit keyword will result in an error or misinterpretation.\n",
            "  FutureWarning\n"
          ]
        },
        {
          "output_type": "execute_result",
          "data": {
            "text/plain": [
              "A    336\n",
              "B    330\n",
              "C    323\n",
              "Name: Branch, dtype: int64"
            ]
          },
          "metadata": {},
          "execution_count": 65
        },
        {
          "output_type": "display_data",
          "data": {
            "text/plain": [
              "<Figure size 432x288 with 1 Axes>"
            ],
            "image/png": "[encoded data removed]"
          },
          "metadata": {
            "needs_background": "light"
          }
        }
      ]
    },
    {
      "cell_type": "markdown",
      "source": [
        "**There is not much difference in sales across the 3 branches of A, B and C. The sales in branch A is a bit higher than the rest of the branches.**"
      ],
      "metadata": {
        "id": "9BANTRae7Uoc"
      }
    },
    {
      "cell_type": "markdown",
      "source": [
        "#4.**Which is the most popular payment method used by customers?**"
      ],
      "metadata": {
        "id": "OjlTNb-E7NqQ"
      }
    },
    {
      "cell_type": "code",
      "source": [
        "payment=[]\n",
        "for i in sms['Payment']:\n",
        "  if i==\"Cash\":\n",
        "    payment.append(i)\n",
        "  elif i=='Ewallet':\n",
        "    payment.append(i)\n",
        "  elif i=='Credit card':\n",
        "    payment.append(i)\n",
        "cash=payment.count('Cash')\n",
        "ewallet=payment.count('Ewallet')\n",
        "cc=payment.count('Credit card')\n",
        "m={'cash':cash,'ewallet':ewallet,'credit card':cc}\n",
        "print(m)\n",
        "if (m['cash' ]> m['ewallet']) and (m['cash'] >m[ 'credit card']):\n",
        "   print('cash is popular')\n",
        "elif (m['ewallet'] >m[ 'cash']) and (m['ewallet'] >m[ 'credit card']):\n",
        "   print('ewallet is popular')\n",
        "else:\n",
        "   print('credit card is popular')\n",
        " "
      ],
      "metadata": {
        "colab": {
          "base_uri": "https://localhost:8080/"
        },
        "id": "jRPWh7G_9Qbu",
        "outputId": "ece81033-ac1f-4476-e9a2-efcba52a8464"
      },
      "execution_count": null,
      "outputs": [
        {
          "output_type": "stream",
          "name": "stdout",
          "text": [
            "{'cash': 339, 'ewallet': 341, 'credit card': 309}\n",
            "ewallet is popular\n"
          ]
        }
      ]
    },
    {
      "cell_type": "code",
      "source": [
        "sms['Payment'].value_counts().plot(kind='bar',title='pay method of supermarkets')"
      ],
      "metadata": {
        "id": "danbh01b9gbo",
        "colab": {
          "base_uri": "https://localhost:8080/",
          "height": 344
        },
        "outputId": "bc25e7f0-4f87-4a04-99b8-69500836764b"
      },
      "execution_count": 67,
      "outputs": [
        {
          "output_type": "execute_result",
          "data": {
            "text/plain": [
              "<matplotlib.axes._subplots.AxesSubplot at 0x7f47cb506a50>"
            ]
          },
          "metadata": {},
          "execution_count": 67
        },
        {
          "output_type": "display_data",
          "data": {
            "text/plain": [
              "<Figure size 432x288 with 1 Axes>"
            ],
            "image/png": "[encoded data removed]"
          },
          "metadata": {
            "needs_background": "light"
          }
        }
      ]
    },
    {
      "cell_type": "markdown",
      "source": [
        "so we can cleary say that Ewallet is popular infact,\n",
        "cash payment is also popular when compared to credit card"
      ],
      "metadata": {
        "id": "YWSAmquL76iH"
      }
    },
    {
      "cell_type": "markdown",
      "source": [
        "#**PART 2**"
      ],
      "metadata": {
        "id": "-4mDqbF98ZOa"
      }
    },
    {
      "cell_type": "markdown",
      "source": [
        "#**1.Does gross income affect customer ratings?**"
      ],
      "metadata": {
        "id": "5tYcY4ep8gfV"
      }
    },
    {
      "cell_type": "markdown",
      "source": [
        "We can use scatter plot and regression plot to answer this question by using following code:"
      ],
      "metadata": {
        "id": "pl4hdrwN8rX0"
      }
    },
    {
      "cell_type": "code",
      "source": [
        "sns.scatterplot(sms['Rating'], sms['gross income'])"
      ],
      "metadata": {
        "colab": {
          "base_uri": "https://localhost:8080/",
          "height": 351
        },
        "id": "r1XAoyu18m94",
        "outputId": "2d555385-f415-4534-e578-c782f1d65ed5"
      },
      "execution_count": 68,
      "outputs": [
        {
          "output_type": "stream",
          "name": "stderr",
          "text": [
            "/usr/local/lib/python3.7/dist-packages/seaborn/_decorators.py:43: FutureWarning: Pass the following variables as keyword args: x, y. From version 0.12, the only valid positional argument will be `data`, and passing other arguments without an explicit keyword will result in an error or misinterpretation.\n",
            "  FutureWarning\n"
          ]
        },
        {
          "output_type": "execute_result",
          "data": {
            "text/plain": [
              "<matplotlib.axes._subplots.AxesSubplot at 0x7f47cb4d3890>"
            ]
          },
          "metadata": {},
          "execution_count": 68
        },
        {
          "output_type": "display_data",
          "data": {
            "text/plain": [
              "<Figure size 432x288 with 1 Axes>"
            ],
            "image/png": "[encoded data removed]"
          },
          "metadata": {
            "needs_background": "light"
          }
        }
      ]
    },
    {
      "cell_type": "markdown",
      "source": [
        "there is no relationship between gross income of a customer and his rating."
      ],
      "metadata": {
        "id": "fVlkwCWM9IjK"
      }
    },
    {
      "cell_type": "markdown",
      "source": [
        "#**2.Which is the most profitable branch?**"
      ],
      "metadata": {
        "id": "_rXzr_Ny9OMD"
      }
    },
    {
      "cell_type": "code",
      "source": [
        "sns.boxplot(x=sms['Branch'], y=sms['gross income'])"
      ],
      "metadata": {
        "colab": {
          "base_uri": "https://localhost:8080/",
          "height": 296
        },
        "id": "hSGGV97u9RGu",
        "outputId": "0b574466-21be-40b3-84ec-9a99df465b3a"
      },
      "execution_count": 69,
      "outputs": [
        {
          "output_type": "execute_result",
          "data": {
            "text/plain": [
              "<matplotlib.axes._subplots.AxesSubplot at 0x7f47cb43b3d0>"
            ]
          },
          "metadata": {},
          "execution_count": 69
        },
        {
          "output_type": "display_data",
          "data": {
            "text/plain": [
              "<Figure size 432x288 with 1 Axes>"
            ],
            "image/png": "[encoded data removed]"
          },
          "metadata": {
            "needs_background": "light"
          }
        }
      ]
    },
    {
      "cell_type": "markdown",
      "source": [
        "There is not much difference in gross income by branches at an average level. \n",
        "\n",
        "Branch C has a slightly higher income than A or B.As observed earlier,though branch A has slightly higher sales than the rest,\n",
        "\n",
        "C i.e. Naypyitaw is the most profitable branch in terms of gross income."
      ],
      "metadata": {
        "id": "c9-wc5OJ9erv"
      }
    },
    {
      "cell_type": "markdown",
      "source": [
        "#**3.Create a boxplot between gender and gross income explain the results**"
      ],
      "metadata": {
        "id": "yUE7s5v3YOBc"
      }
    },
    {
      "cell_type": "code",
      "source": [
        "sns.boxplot(x=df['Gender'], y=df['gross income'])"
      ],
      "metadata": {
        "id": "vgY5wgqjYLfI",
        "colab": {
          "base_uri": "https://localhost:8080/",
          "height": 296
        },
        "outputId": "403c98bd-f969-4dc3-da6a-ce3d443c875e"
      },
      "execution_count": 70,
      "outputs": [
        {
          "output_type": "execute_result",
          "data": {
            "text/plain": [
              "<matplotlib.axes._subplots.AxesSubplot at 0x7f47cb3695d0>"
            ]
          },
          "metadata": {},
          "execution_count": 70
        },
        {
          "output_type": "display_data",
          "data": {
            "text/plain": [
              "<Figure size 432x288 with 1 Axes>"
            ],
            "image/png": "[encoded data removed]"
          },
          "metadata": {
            "needs_background": "light"
          }
        }
      ]
    },
    {
      "cell_type": "markdown",
      "source": [
        "Gross income is similar for both male and female, though female customers spend a bit higher at the 75th percentile."
      ],
      "metadata": {
        "id": "iaiQGXKT93fF"
      }
    },
    {
      "cell_type": "markdown",
      "source": [
        "#**4.Can you see any time trend in gross income?**"
      ],
      "metadata": {
        "id": "h0-KqmURH6v1"
      }
    },
    {
      "cell_type": "code",
      "source": [
        "sns.lineplot(x= sms.groupby(sms.index).mean().index, \n",
        "             y = sms.groupby(sms.index).mean()['gross income'])"
      ],
      "metadata": {
        "id": "HD0aZhx-YLhz",
        "colab": {
          "base_uri": "https://localhost:8080/",
          "height": 282
        },
        "outputId": "131575fb-d339-4952-fb60-568cf626741b"
      },
      "execution_count": 71,
      "outputs": [
        {
          "output_type": "execute_result",
          "data": {
            "text/plain": [
              "<matplotlib.axes._subplots.AxesSubplot at 0x7f47cb318590>"
            ]
          },
          "metadata": {},
          "execution_count": 71
        },
        {
          "output_type": "display_data",
          "data": {
            "text/plain": [
              "<Figure size 432x288 with 1 Axes>"
            ],
            "image/png": "[encoded data removed]"
          },
          "metadata": {
            "needs_background": "light"
          }
        }
      ]
    },
    {
      "cell_type": "markdown",
      "source": [
        " No particular time trend is observed except for some days when the gross income is pretty high or pretty low. \n",
        " \n",
        "Overall it remains at a certain average level."
      ],
      "metadata": {
        "id": "mlzOtXJ6-sSD"
      }
    },
    {
      "cell_type": "markdown",
      "source": [
        "#**5.What is the spending pattern of both males and females, meaning in which category do they spend more?**"
      ],
      "metadata": {
        "id": "lOZq17zt-y6_"
      }
    },
    {
      "cell_type": "code",
      "source": [
        "plt.figure(figsize=(12, 6))\n",
        "plt.title('Total Monthly transaction by Gender')\n",
        "sns.countplot(sms['Product code'], hue = sms.Gender)"
      ],
      "metadata": {
        "colab": {
          "base_uri": "https://localhost:8080/",
          "height": 476
        },
        "id": "Hyw_5fbm-1x1",
        "outputId": "da4b407b-0380-49ae-a043-8fb04df904da"
      },
      "execution_count": 77,
      "outputs": [
        {
          "output_type": "stream",
          "name": "stderr",
          "text": [
            "/usr/local/lib/python3.7/dist-packages/seaborn/_decorators.py:43: FutureWarning: Pass the following variable as a keyword arg: x. From version 0.12, the only valid positional argument will be `data`, and passing other arguments without an explicit keyword will result in an error or misinterpretation.\n",
            "  FutureWarning\n"
          ]
        },
        {
          "output_type": "execute_result",
          "data": {
            "text/plain": [
              "<matplotlib.axes._subplots.AxesSubplot at 0x7f47cb25a750>"
            ]
          },
          "metadata": {},
          "execution_count": 77
        },
        {
          "output_type": "display_data",
          "data": {
            "text/plain": [
              "<Figure size 864x432 with 1 Axes>"
            ],
            "image/png": "[encoded data removed]"
          },
          "metadata": {
            "needs_background": "light"
          }
        }
      ]
    },
    {
      "cell_type": "markdown",
      "source": [
        "Females spend on 'fashion accessories' the most \n",
        "\n",
        "and for males it is 'Health and beauty'. \n",
        "\n",
        "Females also spend more on 'Sports and travel'"
      ],
      "metadata": {
        "id": "ZtHrseIe_uz5"
      }
    },
    {
      "cell_type": "markdown",
      "source": [
        "#**6.How many products are bought by customers?**"
      ],
      "metadata": {
        "id": "vxENIH3K_5VW"
      }
    },
    {
      "cell_type": "code",
      "source": [
        "xdata = [1,2,3,4,5,6,7,8,9,10]\n",
        "plt.figure(figsize = (12,6))\n",
        "sns.distplot(sms['Quantity'])\n",
        "plt.xticks(xdata)"
      ],
      "metadata": {
        "colab": {
          "base_uri": "https://localhost:8080/",
          "height": 634
        },
        "id": "UYTIkZzC_8K1",
        "outputId": "750ae358-1202-4508-ba96-561771020829"
      },
      "execution_count": 78,
      "outputs": [
        {
          "output_type": "stream",
          "name": "stderr",
          "text": [
            "/usr/local/lib/python3.7/dist-packages/seaborn/distributions.py:2619: FutureWarning: `distplot` is a deprecated function and will be removed in a future version. Please adapt your code to use either `displot` (a figure-level function with similar flexibility) or `histplot` (an axes-level function for histograms).\n",
            "  warnings.warn(msg, FutureWarning)\n"
          ]
        },
        {
          "output_type": "execute_result",
          "data": {
            "text/plain": [
              "([<matplotlib.axis.XTick at 0x7f47cb118950>,\n",
              "  <matplotlib.axis.XTick at 0x7f47cb094b10>,\n",
              "  <matplotlib.axis.XTick at 0x7f47cb04cbd0>,\n",
              "  <matplotlib.axis.XTick at 0x7f47cb057450>,\n",
              "  <matplotlib.axis.XTick at 0x7f47cb057d10>,\n",
              "  <matplotlib.axis.XTick at 0x7f47cafdf310>,\n",
              "  <matplotlib.axis.XTick at 0x7f47cafdf810>,\n",
              "  <matplotlib.axis.XTick at 0x7f47cafdfd50>,\n",
              "  <matplotlib.axis.XTick at 0x7f47cafe4350>,\n",
              "  <matplotlib.axis.XTick at 0x7f47cb08ab10>],\n",
              " <a list of 10 Text major ticklabel objects>)"
            ]
          },
          "metadata": {},
          "execution_count": 78
        },
        {
          "output_type": "display_data",
          "data": {
            "text/plain": [
              "<Figure size 864x432 with 1 Axes>"
            ],
            "image/png": "[encoded data removed]"
          },
          "metadata": {
            "needs_background": "light"
          }
        }
      ]
    },
    {
      "cell_type": "markdown",
      "source": [
        "Most of the customers buy 10 quantities."
      ],
      "metadata": {
        "id": "vhUQ4Sz6AI_S"
      }
    },
    {
      "cell_type": "markdown",
      "source": [
        "#9.**What product line should your supermarket focus on?**"
      ],
      "metadata": {
        "id": "wLhM7KL9woLY"
      }
    },
    {
      "cell_type": "code",
      "source": [
        "xdata = [0,1,2,3,4,5,6,7,8,9,10]\n",
        "plt.figure(figsize = (12,6))\n",
        "sns.barplot(y = sms['Product code'], x =sms['Rating'])\n",
        "plt.xticks(xdata)"
      ],
      "metadata": {
        "colab": {
          "base_uri": "https://localhost:8080/",
          "height": 596
        },
        "id": "865oQwddBKI3",
        "outputId": "a350dce9-6ec2-421b-b85f-abf402585f79"
      },
      "execution_count": 84,
      "outputs": [
        {
          "output_type": "execute_result",
          "data": {
            "text/plain": [
              "([<matplotlib.axis.XTick at 0x7f47cb1c89d0>,\n",
              "  <matplotlib.axis.XTick at 0x7f47cb1c8a90>,\n",
              "  <matplotlib.axis.XTick at 0x7f47cae6d650>,\n",
              "  <matplotlib.axis.XTick at 0x7f47cb00f810>,\n",
              "  <matplotlib.axis.XTick at 0x7f47ce14b5d0>,\n",
              "  <matplotlib.axis.XTick at 0x7f47ce14bcd0>,\n",
              "  <matplotlib.axis.XTick at 0x7f47cdee33d0>,\n",
              "  <matplotlib.axis.XTick at 0x7f47ce1c34d0>,\n",
              "  <matplotlib.axis.XTick at 0x7f47cdee38d0>,\n",
              "  <matplotlib.axis.XTick at 0x7f47ce14b110>,\n",
              "  <matplotlib.axis.XTick at 0x7f47ce134250>],\n",
              " <a list of 11 Text major ticklabel objects>)"
            ]
          },
          "metadata": {},
          "execution_count": 84
        },
        {
          "output_type": "display_data",
          "data": {
            "text/plain": [
              "<Figure size 864x432 with 1 Axes>"
            ],
            "image/png": "[encoded data removed]"
          },
          "metadata": {
            "needs_background": "light"
          }
        }
      ]
    },
    {
      "cell_type": "code",
      "source": [
        "\n",
        "\n",
        "D=sms['Product code']\n",
        "m1=[]\n",
        "c=0\n",
        "n1=''\n",
        "l2=0\n",
        "count=[]\n",
        "for i1 in D:\n",
        "  if i1!=n1:\n",
        "    if i1 in m1:\n",
        "      m1=m1\n",
        "    else:\n",
        "      m1.append(i1)\n",
        "      n1=i1\n",
        "print('no.of product code available:',m1)\n",
        "for y in m1:\n",
        "  for z in D:\n",
        "    if y==z:\n",
        "      c+=1\n",
        "  count.append(c)\n",
        "  c=0\n",
        "print('count of particular product code:',count)\n",
        "focus=min(count)\n",
        "print('minimum of product code:',focus)\n",
        "for z in m1:\n",
        "  l2+=1\n",
        "print('no.of product types available:',l2)\n",
        "for k1 in range(0,l2):\n",
        "  if count[k1]==focus:\n",
        "    print('focus on :',m1[k1])"
      ],
      "metadata": {
        "id": "g6bZGasTYLka",
        "colab": {
          "base_uri": "https://localhost:8080/"
        },
        "outputId": "9ce7a440-a5ed-4a46-88ce-801eafa8feaa"
      },
      "execution_count": 60,
      "outputs": [
        {
          "output_type": "stream",
          "name": "stdout",
          "text": [
            "no.of product code available: ['PD1', 'PD2', 'PD3', 'PD4', 'PD5', 'PD6']\n",
            "count of particular product code: [149, 169, 159, 163, 172, 177]\n",
            "minimum of product code: 149\n",
            "no.of product types available: 6\n",
            "focus on : PD1\n"
          ]
        }
      ]
    },
    {
      "cell_type": "markdown",
      "source": [
        "The mean quantity is lower for ‘fashion accessories’ and ‘food and beverages’"
      ],
      "metadata": {
        "id": "UtsH3yX4Bakn"
      }
    },
    {
      "cell_type": "markdown",
      "source": [
        "#Which product line should your supermarket focus on?"
      ],
      "metadata": {
        "id": "PXhwg3zRBpUh"
      }
    },
    {
      "cell_type": "code",
      "source": [
        "sns.boxenplot(y = 'Product code', x = 'Quantity', data=sms )"
      ],
      "metadata": {
        "id": "DFULH0agYLqK",
        "colab": {
          "base_uri": "https://localhost:8080/",
          "height": 296
        },
        "outputId": "f3fecf26-4343-437b-f57c-15fc64783b84"
      },
      "execution_count": 89,
      "outputs": [
        {
          "output_type": "execute_result",
          "data": {
            "text/plain": [
              "<matplotlib.axes._subplots.AxesSubplot at 0x7f47cdd85f90>"
            ]
          },
          "metadata": {},
          "execution_count": 89
        },
        {
          "output_type": "display_data",
          "data": {
            "text/plain": [
              "<Figure size 432x288 with 1 Axes>"
            ],
            "image/png": "[encoded data removed]"
          },
          "metadata": {
            "needs_background": "light"
          }
        }
      ]
    },
    {
      "cell_type": "markdown",
      "source": [
        "Though the rating for ‘fashion accessories’ and ‘food and beverages’ is high but quantity purchased is low. \n",
        "\n",
        "Hence, supply for these products need to be increased.\n"
      ],
      "metadata": {
        "id": "qhe-Y0WMCmFH"
      }
    },
    {
      "cell_type": "code",
      "source": [
        ""
      ],
      "metadata": {
        "id": "QEfTzM_YYLz_"
      },
      "execution_count": null,
      "outputs": []
    },
    {
      "cell_type": "code",
      "source": [
        ""
      ],
      "metadata": {
        "id": "bZhfw8BPYL20"
      },
      "execution_count": null,
      "outputs": []
    },
    {
      "cell_type": "code",
      "source": [
        ""
      ],
      "metadata": {
        "id": "LxfDZOK_YL5x"
      },
      "execution_count": null,
      "outputs": []
    },
    {
      "cell_type": "code",
      "source": [
        ""
      ],
      "metadata": {
        "id": "RnnecJsDYL8Z"
      },
      "execution_count": null,
      "outputs": []
    },
    {
      "cell_type": "code",
      "source": [
        ""
      ],
      "metadata": {
        "id": "RQJX3-73YL_K"
      },
      "execution_count": null,
      "outputs": []
    },
    {
      "cell_type": "code",
      "source": [
        ""
      ],
      "metadata": {
        "id": "WsTM005xYMBo"
      },
      "execution_count": null,
      "outputs": []
    },
    {
      "cell_type": "code",
      "source": [
        ""
      ],
      "metadata": {
        "id": "rIYNU1tAYMFC"
      },
      "execution_count": null,
      "outputs": []
    }
  ]
}